{
 "cells": [
  {
   "cell_type": "markdown",
   "metadata": {},
   "source": [
    "## 需要参赛者就训练集数据中的每一位用户，各推荐50个用户感兴趣的地点。\n",
    "### train_tuple.txt 中的每一行：用户ID，地点ID，访问次数 \n",
    "### mappedpoiinfo.txt 中的每个地点信息：地点ID，纬度，经度，所在城市，粗类别，细类别"
   ]
  },
  {
   "cell_type": "code",
   "execution_count": null,
   "metadata": {
    "collapsed": false
   },
   "outputs": [],
   "source": [
    "import numpy as np\n",
    "import pandas as pd\n",
    "import matplotlib.pyplot as plt\n",
    "plt.rcParams['font.sans-serif']=['SimHei'] #用来正常显示中文标签\n",
    "plt.rcParams['axes.unicode_minus']=False #用来正常显示负号\n",
    "#有中文出现的情况，需要u'内容'\n",
    "from IPython.display import display\n",
    "%matplotlib inline\n"
   ]
  },
  {
   "cell_type": "code",
   "execution_count": null,
   "metadata": {
    "collapsed": false
   },
   "outputs": [],
   "source": [
    "user_inf = pd.read_csv(r'E:\\competition\\DataCastle\\second\\train.txt', header=None, low_memory=False)\n",
    "place_inf = pd.read_table(r'E:\\competition\\DataCastle\\second\\mappedpoiinfo.txt', header=None, sep='\\t', low_memory=False)\n",
    "\n"
   ]
  },
  {
   "cell_type": "code",
   "execution_count": null,
   "metadata": {
    "collapsed": false
   },
   "outputs": [],
   "source": [
    "print(user_inf.head())\n",
    "print(place_inf.head())"
   ]
  },
  {
   "cell_type": "code",
   "execution_count": null,
   "metadata": {
    "collapsed": false
   },
   "outputs": [],
   "source": [
    "#字段field重命名\n",
    "user_inf.columns = ['user_id', 'place_id', 'visit_num']\n",
    "place_inf.columns = ['place_id', 'dimension', 'longitude', 'city', 'big_category', 'small_category']\n"
   ]
  },
  {
   "cell_type": "code",
   "execution_count": null,
   "metadata": {
    "collapsed": false
   },
   "outputs": [],
   "source": [
    "print(np.sum(user_inf.groupby('user_id')['place_id'].count().values < 50))"
   ]
  },
  {
   "cell_type": "code",
   "execution_count": null,
   "metadata": {
    "collapsed": false
   },
   "outputs": [],
   "source": [
    "print(user_inf.head())\n",
    "print(place_inf.head())\n",
    "place_inf.place_id[0] = '107780'"
   ]
  },
  {
   "cell_type": "code",
   "execution_count": null,
   "metadata": {
    "collapsed": false
   },
   "outputs": [],
   "source": [
    "print(user_inf.shape)\n",
    "print(place_inf.shape)"
   ]
  },
  {
   "cell_type": "code",
   "execution_count": null,
   "metadata": {
    "collapsed": false
   },
   "outputs": [],
   "source": [
    "# #判断缺失值\n",
    "# user_inf.apply(lambda x: sum(x.isnull()))   # #无缺失值\n",
    "place_inf.apply(lambda x: sum(x.isnull()))\n",
    "\n"
   ]
  },
  {
   "cell_type": "code",
   "execution_count": null,
   "metadata": {
    "collapsed": false
   },
   "outputs": [],
   "source": [
    "import sys\n",
    "# sys.setdefaultencoding('utf8')\n",
    "def check_contain_chinese(check_str):\n",
    "     for ch in check_str.decode('utf-8'):\n",
    "        if u'\\u4e00' <= ch <= u'\\u9fff':           \n",
    "            return True\n",
    "        \n",
    "     return False \n",
    "\n",
    "#测试函数\n",
    "print(check_contain_chinese('中国'))\n",
    "print(check_contain_chinese('xxx'))\n",
    "print(check_contain_chinese('大赛xx中国'))\n",
    "print(check_contain_chinese('浮点数xxx'))\n",
    "\n",
    "#选出其中第4个位汉字的\n",
    "index = []\n",
    "for value in place_inf['city'].values:\n",
    "    value = str(value)\n",
    "    index.append(check_contain_chinese(value))\n",
    "    \n",
    "print(sum(index))"
   ]
  },
  {
   "cell_type": "code",
   "execution_count": null,
   "metadata": {
    "collapsed": false
   },
   "outputs": [],
   "source": [
    "place_inf.loc[np.asarray(index)].drop(['city','big_category','small_category'], axis=1, inplace=True)"
   ]
  },
  {
   "cell_type": "code",
   "execution_count": null,
   "metadata": {
    "collapsed": true
   },
   "outputs": [],
   "source": [
    "dddd = place_inf[np.asarray(index)]\n",
    "dddd['city'] = np.nan\n",
    "\n",
    "place_inf[np.asarray(index)] = dddd\n",
    "place_inf[np.asarray(index)]"
   ]
  },
  {
   "cell_type": "code",
   "execution_count": null,
   "metadata": {
    "collapsed": false
   },
   "outputs": [],
   "source": [
    "# place_inf = place_inf[~np.asarray(index)]\n",
    "import sys\n",
    "# sys.setdefaultencoding('utf8')\n",
    "def check_contain_chinese(check_str):\n",
    "     for ch in check_str.decode('utf-8'):\n",
    "        if u'\\u4e00' <= ch <= u'\\u9fff':           \n",
    "            return True\n",
    "        \n",
    "     return False \n",
    "\n",
    "print check_contain_chinese('中国')\n",
    "print check_contain_chinese('xxx')\n",
    "print check_contain_chinese('大赛xx中国')\n",
    "print check_contain_chinese('浮点数xxx')\n",
    "\n",
    "#选出其中第4个位汉字的\n",
    "index = []\n",
    "for value in place_inf['city'].values:\n",
    "    value = str(value)\n",
    "    index.append(check_contain_chinese(value))\n",
    "    \n",
    "print sum(index)"
   ]
  },
  {
   "cell_type": "code",
   "execution_count": null,
   "metadata": {
    "collapsed": false
   },
   "outputs": [],
   "source": [
    "print pd.unique(user_inf['place_id'])\n",
    "print pd.unique(place_inf['place_id'])\n",
    "print len(pd.unique(user_inf['place_id']))\n",
    "print len(pd.unique(place_inf['place_id']))"
   ]
  },
  {
   "cell_type": "code",
   "execution_count": null,
   "metadata": {
    "collapsed": false
   },
   "outputs": [],
   "source": [
    "print user_inf.dtypes\n",
    "print place_inf.dtypes"
   ]
  },
  {
   "cell_type": "code",
   "execution_count": null,
   "metadata": {
    "collapsed": true
   },
   "outputs": [],
   "source": [
    "place_inf.place_id = place_inf.place_id.map(int)"
   ]
  },
  {
   "cell_type": "code",
   "execution_count": null,
   "metadata": {
    "collapsed": false
   },
   "outputs": [],
   "source": [
    "print user_inf.dtypes\n",
    "print place_inf.dtypes"
   ]
  },
  {
   "cell_type": "code",
   "execution_count": null,
   "metadata": {
    "collapsed": false
   },
   "outputs": [],
   "source": [
    "print pd.unique(user_inf['place_id'])\n",
    "print pd.unique(place_inf['place_id'])\n",
    "print len(pd.unique(user_inf['place_id']))\n",
    "print len(pd.unique(place_inf['place_id']))"
   ]
  },
  {
   "cell_type": "code",
   "execution_count": null,
   "metadata": {
    "collapsed": true
   },
   "outputs": [],
   "source": [
    "# Merge method\t        SQL Join Name\t        Description\n",
    "\n",
    "# left\t                LEFT OUTER JOIN\t        Use keys from left frame only\n",
    "# right\t                RIGHT OUTER JOIN\t    Use keys from right frame only\n",
    "# outer\t                FULL OUTER JOIN\t        Use union of keys from both frames\n",
    "# inner\t                INNER JOIN\tUse         intersection of keys from both frames"
   ]
  },
  {
   "cell_type": "code",
   "execution_count": null,
   "metadata": {
    "collapsed": false
   },
   "outputs": [],
   "source": [
    "data = pd.merge(user_inf, place_inf, on='place_id', how='inner')\n",
    "# user_inf.join(place_inf,on='place_id') #不能有重复列在某一个的\n",
    "\n"
   ]
  },
  {
   "cell_type": "code",
   "execution_count": null,
   "metadata": {
    "collapsed": false
   },
   "outputs": [],
   "source": [
    "data.shape"
   ]
  },
  {
   "cell_type": "code",
   "execution_count": null,
   "metadata": {
    "collapsed": false,
    "scrolled": true
   },
   "outputs": [],
   "source": [
    "#(7069072, 8)\n",
    "\n",
    "display(data[:10])"
   ]
  },
  {
   "cell_type": "code",
   "execution_count": null,
   "metadata": {
    "collapsed": true
   },
   "outputs": [],
   "source": [
    "data[data['user_id'] == 43300]"
   ]
  },
  {
   "cell_type": "code",
   "execution_count": null,
   "metadata": {
    "collapsed": false
   },
   "outputs": [],
   "source": [
    "data.columns"
   ]
  },
  {
   "cell_type": "code",
   "execution_count": null,
   "metadata": {
    "collapsed": false
   },
   "outputs": [],
   "source": [
    "for col in  ['city','big_category','small_category']:\n",
    "    print \"类别\"+ col + \"数目：\",len(pd.unique(data[col])),\"\\n\"\n",
    "#     print data[col].value_counts()\n"
   ]
  },
  {
   "cell_type": "code",
   "execution_count": null,
   "metadata": {
    "collapsed": false
   },
   "outputs": [],
   "source": [
    "for col in  ['city','big_category','small_category']:\n",
    "    print \"类别\"+ col + \"数目：\",len(pd.unique(place_inf[col])),\"\\n\"\n",
    "#     print data[col].value_counts()\n"
   ]
  },
  {
   "cell_type": "code",
   "execution_count": null,
   "metadata": {
    "collapsed": false,
    "scrolled": true
   },
   "outputs": [],
   "source": [
    "print data['city'].value_counts().sort_values(ascending=False)\n",
    "# data['city'].value_counts().sort_values(ascending=False).plot.bar()"
   ]
  },
  {
   "cell_type": "code",
   "execution_count": null,
   "metadata": {
    "collapsed": false
   },
   "outputs": [],
   "source": [
    "print data['big_category'].value_counts()\n",
    "plt.figure(figsize=(10,6))\n",
    "data['big_category'].value_counts().plot.bar()"
   ]
  },
  {
   "cell_type": "code",
   "execution_count": null,
   "metadata": {
    "collapsed": false
   },
   "outputs": [],
   "source": [
    "print data['small_category'].value_counts()\n",
    "plt.figure(figsize=(15, 8))\n",
    "data['small_category'].value_counts().sort_values(ascending=False)[:50].plot.bar()"
   ]
  },
  {
   "cell_type": "code",
   "execution_count": null,
   "metadata": {
    "collapsed": true
   },
   "outputs": [],
   "source": [
    "print place_inf['small_category'].value_counts()"
   ]
  },
  {
   "cell_type": "code",
   "execution_count": null,
   "metadata": {
    "collapsed": true
   },
   "outputs": [],
   "source": [
    "print len(place_inf['city'].value_counts()[place_inf['city'].value_counts() < 10])\n",
    "print place_inf['city'].value_counts()[place_inf['city'].value_counts() < 10]\n"
   ]
  },
  {
   "cell_type": "code",
   "execution_count": null,
   "metadata": {
    "collapsed": false
   },
   "outputs": [],
   "source": [
    "len(place_inf['city'].value_counts()[place_inf['city'].value_counts() <= 15])"
   ]
  },
  {
   "cell_type": "code",
   "execution_count": null,
   "metadata": {
    "collapsed": false
   },
   "outputs": [],
   "source": [
    "print len(pd.unique(user_inf.user_id))\n",
    "print len(pd.unique(data.user_id))"
   ]
  },
  {
   "cell_type": "code",
   "execution_count": null,
   "metadata": {
    "collapsed": true
   },
   "outputs": [],
   "source": []
  },
  {
   "cell_type": "code",
   "execution_count": null,
   "metadata": {
    "collapsed": true
   },
   "outputs": [],
   "source": [
    "data.to_csv(r'E:\\competition\\DataCastle\\second\\data.csv', index=False, encoding='utf-8')\n",
    "\n"
   ]
  },
  {
   "cell_type": "code",
   "execution_count": null,
   "metadata": {
    "collapsed": false
   },
   "outputs": [],
   "source": [
    "1 in np.array([1,2,3])"
   ]
  },
  {
   "cell_type": "code",
   "execution_count": null,
   "metadata": {
    "collapsed": true
   },
   "outputs": [],
   "source": []
  },
  {
   "cell_type": "code",
   "execution_count": null,
   "metadata": {
    "collapsed": true
   },
   "outputs": [],
   "source": []
  },
  {
   "cell_type": "code",
   "execution_count": null,
   "metadata": {
    "collapsed": true
   },
   "outputs": [],
   "source": []
  }
 ],
 "metadata": {
  "anaconda-cloud": {},
  "kernelspec": {
   "display_name": "Python 3",
   "language": "python",
   "name": "python3"
  },
  "language_info": {
   "codemirror_mode": {
    "name": "ipython",
    "version": 3
   },
   "file_extension": ".py",
   "mimetype": "text/x-python",
   "name": "python",
   "nbconvert_exporter": "python",
   "pygments_lexer": "ipython3",
   "version": "3.6.0"
  }
 },
 "nbformat": 4,
 "nbformat_minor": 0
}
